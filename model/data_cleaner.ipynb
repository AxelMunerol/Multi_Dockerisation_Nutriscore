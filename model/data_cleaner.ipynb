{
 "cells": [
  {
   "cell_type": "code",
   "execution_count": null,
   "id": "5aaf7961-10ac-4f58-a584-0625a3bcd152",
   "metadata": {},
   "outputs": [],
   "source": []
  },
  {
   "cell_type": "markdown",
   "id": "e18d8c9b-e8ea-41cf-b849-3ab9bb6aa059",
   "metadata": {},
   "source": [
    "Import du csv et traitement"
   ]
  },
  {
   "cell_type": "code",
   "execution_count": 1,
   "id": "bd60fa2c-e9ec-4010-8725-8671b7a9a4e1",
   "metadata": {},
   "outputs": [],
   "source": [
    "import pandas as pd\n",
    "\n",
    "# Spécifie le chemin vers ton fichier CSV\n",
    "chemin_fichier_csv = 'https://static.openfoodfacts.org/data/en.openfoodfacts.org.products.csv.gz'\n",
    "\n",
    "# Définis la taille des chunks (nombre de lignes par chunk)\n",
    "chunksize = 10000  # Par exemple, 10000 lignes par chunk\n",
    "listedechunk = []\n",
    "\n",
    "# Colonnes sélectionnées\n",
    "selected_cols = [\n",
    "    \"code\",\n",
    "    \"product_name\",\n",
    "    \"created_datetime\",\n",
    "    \"quantity\",\n",
    "    \"brands\",\n",
    "    \"categories\",\n",
    "    'categories_en',\n",
    "    'pnns_groups_1',\n",
    "    'pnns_groups_2',\n",
    "    'main_category_en',\n",
    "    \"ingredients_text\",\n",
    "    \"nutriscore_score\",\n",
    "    \"nutriscore_grade\",\n",
    "    \"countries_en\",\n",
    "    \"energy-kj_100g\",\n",
    "    \"energy-kcal_100g\",\n",
    "    \"fat_100g\",\n",
    "    \"saturated-fat_100g\",\n",
    "    \"omega-3-fat_100g\",\n",
    "    \"omega-6-fat_100g\",\n",
    "    \"sugars_100g\",\n",
    "    \"added-sugars_100g\",\n",
    "    \"fiber_100g\",\n",
    "    \"proteins_100g\",\n",
    "    \"salt_100g\",\n",
    "    \"fruits-vegetables-nuts-estimate-from-ingredients_100g\",\n",
    "    \"nutrition-score-fr_100g\"\n",
    "]\n",
    "\n",
    "# Parcourt le fichier CSV en utilisant les chunks\n",
    "for i, chunk in enumerate(pd.read_csv(chemin_fichier_csv, sep=\"\\t\", chunksize=chunksize, compression='gzip', on_bad_lines=\"skip\", low_memory=False)):\n",
    "    # Sélectionne les colonnes nécessaires dans chaque chunk\n",
    "    chunk = chunk[selected_cols]\n",
    "   # Convertir la colonne 'created_datetime' en datetime\n",
    "    chunk.loc[:, 'created_datetime'] = pd.to_datetime(chunk['created_datetime'], errors='coerce')\n",
    "\n",
    "    # Ajoute le chunk traité à la liste\n",
    "    listedechunk.append(chunk)\n",
    "\n"
   ]
  },
  {
   "cell_type": "markdown",
   "id": "9575c693-e645-4152-820a-734e865cd0da",
   "metadata": {},
   "source": [
    "Traitement du csv"
   ]
  },
  {
   "cell_type": "code",
   "execution_count": 2,
   "id": "bd7dd163-3650-4118-b2ac-5fda7d95c408",
   "metadata": {},
   "outputs": [],
   "source": [
    "# Parcourt les chunks déjà stockés dans listedechunk\n",
    "for i in range(len(listedechunk)):\n",
    "    chunk = listedechunk[i]  # Récupère le chunk actuel\n",
    "\n",
    "    # Supprime les lignes où nutriscore_grade est 'unknown' ou 'not-applicable'\n",
    "    chunk = chunk[chunk['nutriscore_grade'].isin(['a', 'b', 'c', 'd', 'e'])]\n",
    "    # Remplace le chunk original par le chunk nettoyé\n",
    "    listedechunk[i] = chunk\n"
   ]
  },
  {
   "cell_type": "markdown",
   "id": "6dd5701d-4068-42ed-96de-732557d5cc13",
   "metadata": {},
   "source": [
    "Test sur un chunk"
   ]
  },
  {
   "cell_type": "code",
   "execution_count": 3,
   "id": "079c0911-87f4-43d2-88a2-cd6ed9b5f552",
   "metadata": {},
   "outputs": [
    {
     "name": "stdout",
     "output_type": "stream",
     "text": [
      "Le premier chunk a été enregistré dans 'premier_chunk.csv'.\n"
     ]
    }
   ],
   "source": [
    "if listedechunk:\n",
    "    premier_chunk = listedechunk[0]\n",
    "    premier_chunk.to_csv('premier_chunk.csv', index=False)  # Enregistre sans les index\n",
    "    print(\"Le premier chunk a été enregistré dans 'premier_chunk.csv'.\")\n",
    "else:\n",
    "    print(\"Aucun chunk n'a été chargé.\")"
   ]
  },
  {
   "cell_type": "raw",
   "id": "1099f3c1-0707-4e55-af5c-0c2091c08adf",
   "metadata": {},
   "source": [
    "drop a un seuil"
   ]
  },
  {
   "cell_type": "code",
   "execution_count": 4,
   "id": "236be2b3-46e7-4bbe-a152-c4e5c7c4e30d",
   "metadata": {},
   "outputs": [],
   "source": [
    "# Concatène tous les chunks en un seul DataFrame\n",
    "df_concatene = pd.concat(listedechunk)\n",
    "\n",
    "#vire les colonnes vide de 90%\n",
    "threshold= len(df_concatene)*0.1\n",
    "df_concatene = df_concatene.dropna(thresh=threshold, axis=1)\n",
    "\n",
    "\n"
   ]
  },
  {
   "cell_type": "markdown",
   "id": "8b871848-78c9-4ce0-b46e-612210e385a4",
   "metadata": {},
   "source": [
    "Faire avec les pays"
   ]
  },
  {
   "cell_type": "code",
   "execution_count": null,
   "id": "b78dc71f-8b3d-469a-ad3c-81764f54b428",
   "metadata": {},
   "outputs": [],
   "source": [
    "\n",
    "import pycountry\n",
    "\n",
    "# Crée un ensemble de pays valides\n",
    "valid_countries = set(country.name for country in pycountry.countries)\n",
    "\n",
    "\n",
    "def filter_valid_countries(countries_str):\n",
    "    if pd.isnull(countries_str):  # Vérifie si la chaîne est None\n",
    "        return ['unknown']\n",
    "    \n",
    "    countries = countries_str.split(',')\n",
    "    return [country for country in countries if country in valid_countries]\n",
    "\n",
    "# Appliquer la fonction sur la colonne countries_en\n",
    "df_concatene['countries_en'] = df_concatene['countries_en'].apply(filter_valid_countries)\n",
    "\n",
    "# Remplir les lignes vides par 'unknown'\n",
    "df_concatene['countries_en'] = df_concatene['countries_en'].apply(lambda x: x if x else ['unknown'])\n",
    "\n",
    "# Sauvegarde le DataFrame final dans un fichier CSV\n",
    "df_concatene.to_csv('fichier_concatene_avecpays.csv', index=False)\n"
   ]
  },
  {
   "cell_type": "markdown",
   "id": "bf9d3424-38c0-48f2-9055-713edf22e0d7",
   "metadata": {},
   "source": [
    "On fait des plot"
   ]
  },
  {
   "cell_type": "code",
   "execution_count": null,
   "id": "b3bc992e-59f3-47fb-812b-162e139966dc",
   "metadata": {},
   "outputs": [],
   "source": [
    "import pandas as pd\n",
    "import matplotlib.pyplot as plt\n",
    "import seaborn as sns\n",
    "\n",
    "# Supposons que df_concatene a été créé précédemment\n",
    "\n",
    "# 1. Convertir 'created_datetime' en datetime\n",
    "df_concatene['created_datetime'] = pd.to_datetime(df_concatene['created_datetime'], errors='coerce')\n",
    "\n",
    "# 2. Extraire l'année seulement\n",
    "df_concatene['created_year'] = df_concatene['created_datetime'].dt.year\n",
    "df_concatene = df_concatene.dropna(subset=['created_year'])  # Supprime les lignes sans année\n",
    "\n",
    "# Vérifie les colonnes et les types de données\n",
    "print(df_concatene.columns)\n",
    "print(df_concatene['created_datetime'].dtype)\n",
    "\n",
    "# 3. Aplatir la colonne 'countries_en'\n",
    "df_concatene_exploded = df_concatene.explode('countries_en')\n",
    "\n",
    "# 4. Graphique de création des produits par année (bar graph)\n",
    "plt.figure(figsize=(10, 6))\n",
    "sns.countplot(data=df_concatene, x='created_year')\n",
    "plt.title('Nombre de Produits Créés par Année')\n",
    "plt.xlabel('Année')\n",
    "plt.ylabel('Nombre de Produits')\n",
    "plt.xticks(rotation=45)\n",
    "\n",
    "# Ajustements supplémentaires\n",
    "plt.tight_layout()\n",
    "plt.subplots_adjust(bottom=0.2, top=0.9)  # Ajuste les marges inférieure et supérieure\n",
    "\n",
    "plt.show()\n",
    "\n"
   ]
  },
  {
   "cell_type": "code",
   "execution_count": null,
   "id": "f15074a0-5fb1-4dca-972e-890a9a0ba978",
   "metadata": {},
   "outputs": [],
   "source": [
    "import matplotlib.pyplot as plt\n",
    "import seaborn as sns\n",
    "# 3. Aplatir la colonne 'countries_en'\n",
    "df_concatene_exploded = df_concatene.explode('countries_en')\n",
    "\n",
    "\n",
    "\n",
    "# 5. Tableau de répartition par pays\n",
    "country_distribution = df_concatene_exploded['countries_en'].value_counts()\n",
    "\n",
    "# Affichage du tableau\n",
    "print(\"Répartition des Produits par Pays:\")\n",
    "print(country_distribution)\n",
    "\n",
    "# Optionnel: Afficher un graphique de la répartition par pays\n",
    "plt.figure(figsize=(10, 6))\n",
    "country_distribution.plot(kind='bar', color='skyblue')\n",
    "plt.title('Répartition des Produits par Pays')\n",
    "plt.xlabel('Pays')\n",
    "plt.ylabel('Nombre de Produits')\n",
    "plt.xticks(rotation=90)\n",
    "plt.tight_layout()\n",
    "plt.subplots_adjust(bottom=0.2, top=0.9)  # Ajuste les marges inférieure et supérieure\n",
    "\n",
    "plt.show()\n"
   ]
  },
  {
   "cell_type": "markdown",
   "id": "b35f1425-453f-4d95-ae23-3f42222070e2",
   "metadata": {},
   "source": [
    "plot pnaas grpoup etc\n"
   ]
  },
  {
   "cell_type": "code",
   "execution_count": null,
   "id": "2d891a4c-0a2b-4ee6-b15c-449645f0d479",
   "metadata": {},
   "outputs": [],
   "source": [
    "import matplotlib.pyplot as plt\n",
    "import seaborn as sns\n",
    "# 4. Aplatir les catégories si nécessaire\n",
    "\n",
    "df_concatene_exploded = df_concatene.explode('pnns_groups_1')\n",
    "\n",
    "\n",
    "\n",
    "# 7. Tableau de répartition des catégories\n",
    "category_distribution = df_concatene_exploded['pnns_groups_1'].value_counts()\n",
    "\n",
    "print(\"Répartition des Produits par pnns_groups_1:\")\n",
    "print(category_distribution)\n",
    "# Optionnel: Afficher un graphique de la répartition par catégories\n",
    "plt.figure(figsize=(10, 6))\n",
    "category_distribution.plot(kind='bar', color='lightgreen')\n",
    "plt.title('Répartition des Produits par Catégories')\n",
    "plt.xlabel('Catégories')\n",
    "plt.ylabel('Nombre de Produits')\n",
    "plt.xticks(rotation=90)\n",
    "plt.tight_layout()\n",
    "plt.subplots_adjust(bottom=0.2, top=0.9)  # Ajuste les marges inférieure et supérieure\n",
    "plt.show()\n"
   ]
  },
  {
   "cell_type": "code",
   "execution_count": null,
   "id": "c6094964-3d91-42c4-bfd4-7f25a344d4c9",
   "metadata": {},
   "outputs": [],
   "source": [
    "\n",
    "df_concatene_exploded = df_concatene_exploded.explode('pnns_groups_2')\n",
    "\n",
    "# 7. Tableau de répartition des catégories\n",
    "category_distribution = df_concatene_exploded['pnns_groups_2'].value_counts()\n",
    "\n",
    "print(\"Répartition des Produits par pnns_groups_2:\")\n",
    "print(category_distribution)\n",
    "# Optionnel: Afficher un graphique de la répartition par catégories\n",
    "plt.figure(figsize=(10, 6))\n",
    "category_distribution.plot(kind='bar', color='lightgreen')\n",
    "plt.title('Répartition des Produits par Catégories')\n",
    "plt.xlabel('Catégories')\n",
    "plt.ylabel('Nombre de Produits')\n",
    "plt.xticks(rotation=90)\n",
    "plt.tight_layout()\n",
    "plt.subplots_adjust(bottom=0.2, top=0.9)  # Ajuste les marges inférieure et supérieure\n",
    "plt.show()\n",
    "\n",
    "\n"
   ]
  },
  {
   "cell_type": "markdown",
   "id": "99dbee5c-9a9a-4562-9c19-76971d09aa3c",
   "metadata": {},
   "source": [
    "Graph demandés\n"
   ]
  },
  {
   "cell_type": "code",
   "execution_count": null,
   "id": "d4d0dbe3-d2bd-4cfa-a420-112d8a02033a",
   "metadata": {},
   "outputs": [],
   "source": [
    "import pandas as pd\n",
    "import matplotlib.pyplot as plt\n",
    "import seaborn as sns\n",
    "from wordcloud import WordCloud\n",
    "\n",
    "# 1. Extraire uniquement l'année de la date de création\n",
    "df_concatene_exploded['created_datetime'] = pd.to_datetime(df_concatene_exploded['created_datetime'], errors='coerce')\n",
    "df_concatene_exploded['created_year'] = df_concatene_exploded['created_datetime'].dt.year\n",
    "\n",
    "# Supprimer les lignes sans année\n",
    "df_concatene_exploded = df_concatene_exploded.dropna(subset=['created_year'])\n",
    "\n",
    "# Créer un bargraph pour les créations de produits par année\n",
    "plt.figure(figsize=(10, 6))\n",
    "sns.countplot(data=df_concatene_exploded, x='created_year', color='skyblue')\n",
    "plt.title('Nombre de Produits Créés par Année')\n",
    "plt.xlabel('Année')\n",
    "plt.ylabel('Nombre de Produits')\n",
    "plt.xticks(rotation=90)\n",
    "plt.tight_layout()\n",
    "plt.show()\n",
    "\n",
    "# 3. Aplatir la colonne 'countries_en'\n",
    "df_concatene_exploded = df_concatene.explode('countries_en')\n",
    "# 5. Tableau de répartition par pays\n",
    "country_distribution = df_concatene_exploded['countries_en'].value_counts()\n",
    "\n",
    "# Affichage du tableau\n",
    "print(\"Répartition des Produits par Pays:\")\n",
    "print(country_distribution)\n",
    "\n",
    "# Optionnel: Afficher un graphique de la répartition par pays\n",
    "plt.figure(figsize=(10, 6))\n",
    "country_distribution.plot(kind='bar', color='skyblue')\n",
    "plt.title('Répartition des Produits par Pays')\n",
    "plt.xlabel('Pays')\n",
    "plt.ylabel('Nombre de Produits')\n",
    "plt.xticks(rotation=90)\n",
    "plt.tight_layout()\n",
    "plt.subplots_adjust(bottom=0.2, top=0.9)  # Ajuste les marges inférieure et supérieure\n",
    "\n",
    "plt.show()"
   ]
  },
  {
   "cell_type": "code",
   "execution_count": null,
   "id": "9060286f-6398-40f0-b4fb-9147f20f221c",
   "metadata": {},
   "outputs": [],
   "source": [
    "import pandas as pd\n",
    "import matplotlib.pyplot as plt\n",
    "from wordcloud import WordCloud\n",
    "\n",
    "# Convertir toutes les valeurs en minuscules et supprimer les espaces en trop\n",
    "df_concatene_exploded['pnns_groups_2'] = df_concatene_exploded['pnns_groups_2'].str.lower().str.strip()\n",
    "\n",
    "# Exploser les listes en lignes individuelles\n",
    "df_pnns_exploded = df_concatene_exploded.explode('pnns_groups_2')\n",
    "\n",
    "# Supprimer les espaces en trop après l'explosion\n",
    "df_pnns_exploded['pnns_groups_2'] = df_pnns_exploded['pnns_groups_2'].str.strip()\n",
    "\n",
    "# Supprimer les apostrophes (ou autres caractères indésirables) en fin de mot\n",
    "df_pnns_exploded['pnns_groups_2'] = df_pnns_exploded['pnns_groups_2'].str.replace(\"'\", \"\", regex=False)\n",
    "\n",
    "# Supprimer les doublons dans la colonne pour éviter de compter plusieurs fois\n",
    "df_pnns_exploded = df_pnns_exploded.drop_duplicates(subset='pnns_groups_2')\n",
    "\n",
    "# Compter les occurrences des groupes\n",
    "group_counts = df_pnns_exploded['pnns_groups_2'].value_counts()\n",
    "\n",
    "# Sélectionner les 20 groupes les plus fréquents\n",
    "top_20_groups = group_counts.head(20)\n",
    "\n",
    "# Créer un texte géant avec uniquement les 20 groupes les plus fréquents\n",
    "groups_text = ' '.join([f'{group} ' * freq for group, freq in top_20_groups.items()])\n",
    "\n",
    "# Générer le WordCloud\n",
    "wordcloud = WordCloud(width=800, height=400, background_color='white').generate(groups_text)\n",
    "\n",
    "# Afficher le WordCloud\n",
    "plt.figure(figsize=(10, 6))\n",
    "plt.imshow(wordcloud, interpolation='bilinear')\n",
    "plt.axis('off')  # Pas de bordures ni d'axes\n",
    "plt.title('WordCloud des 20 Groupes PNNS les Plus Fréquents')\n",
    "plt.tight_layout(pad=0)\n",
    "plt.show()\n"
   ]
  },
  {
   "cell_type": "code",
   "execution_count": null,
   "id": "25129f9c-ff80-41a9-87b3-d5381b638c00",
   "metadata": {},
   "outputs": [],
   "source": [
    "import pandas as pd\n",
    "import matplotlib.pyplot as plt\n",
    "import seaborn as sns\n",
    "\n",
    "df = pd.read_csv(\"fichier_concatene_avecpays.csv\", low_memory=False)\n",
    "\n",
    "print(df.head())"
   ]
  },
  {
   "cell_type": "code",
   "execution_count": null,
   "id": "1dc8c3b7-6ae2-4455-a1c7-0e9c19d11624",
   "metadata": {},
   "outputs": [],
   "source": [
    "# Identifier les colonnes numériques\n",
    "numerical_cols = [\n",
    "    'quantity', 'nutriscore_score', 'energy-kj_100g', 'energy-kcal_100g',\n",
    "    'fat_100g', 'saturated-fat_100g', 'sugars_100g', 'fiber_100g',\n",
    "    'proteins_100g', 'salt_100g', 'fruits-vegetables-nuts-estimate-from-ingredients_100g',\n",
    "    'nutrition-score-fr_100g'\n",
    "]"
   ]
  },
  {
   "cell_type": "code",
   "execution_count": null,
   "id": "3fade14d-0901-4ba8-a0bd-c748e42d90de",
   "metadata": {},
   "outputs": [],
   "source": [
    "# Sélectionner les colonnes contenant '_100g' dans leur nom\n",
    "colonnes_100g = [\n",
    "    \"fat_100g\",\n",
    "    \"saturated-fat_100g\",\n",
    "    \"sugars_100g\",\n",
    "    \"fiber_100g\",\n",
    "    \"proteins_100g\",\n",
    "    \"salt_100g\",\n",
    "    \"fruits-vegetables-nuts-estimate-from-ingredients_100g\"\n",
    "]\n",
    "\n",
    "# Filtrer les lignes où toutes les colonnes '_100g' sont inférieures ou égales à 100\n",
    "df = df[(df[colonnes_100g] <= 100).all(axis=1)]\n",
    "\n",
    "# Vérifier le résultat\n",
    "# Créer un boxplot pour toutes les colonnes numériques\n",
    "plt.figure(figsize=(12, 8))\n",
    "sns.boxplot(data=df[numerical_cols], orient='h')  # Orientation horizontale pour plus de lisibilité\n",
    "\n",
    "# Ajouter des labels et un titre\n",
    "plt.title('Boxplot des colonnes numériques')\n",
    "plt.xlabel('Valeurs')\n",
    "plt.ylabel('Colonnes')\n",
    "\n",
    "# Afficher le plot\n",
    "plt.show()\n",
    "df_archive = df\n"
   ]
  },
  {
   "cell_type": "code",
   "execution_count": null,
   "id": "00d2ed84-34d4-4a08-9c42-c953abfd4860",
   "metadata": {},
   "outputs": [],
   "source": [
    "# Calculer les valeurs du 99ème percentile pour les colonnes 'energy-kcal_100g' et 'energy-kj_100g'\n",
    "percentile_99_kcal = df['energy-kcal_100g'].quantile(0.99)\n",
    "percentile_99_kj = df['energy-kj_100g'].quantile(0.99)\n",
    "\n",
    "# Filtrer les lignes où 'energy-kcal_100g' et 'energy-kj_100g' sont inférieures ou égales au 99ème percentile\n",
    "df = df[(df['energy-kcal_100g'] <= percentile_99_kcal) & (df['energy-kj_100g'] <= percentile_99_kj)]\n",
    "\n",
    "# Vérifier le résultat\n",
    "print(df.head())"
   ]
  },
  {
   "cell_type": "code",
   "execution_count": null,
   "id": "7d58f014-8c1f-45a1-a0d3-9bea279f7a7d",
   "metadata": {},
   "outputs": [],
   "source": [
    "# Vérifier le résultat\n",
    "# Créer un boxplot pour toutes les colonnes numériques\n",
    "plt.figure(figsize=(12, 8))\n",
    "sns.boxplot(data=df[numerical_cols], orient='h')  # Orientation horizontale pour plus de lisibilité\n",
    "\n",
    "# Ajouter des labels et un titre\n",
    "plt.title('Boxplot des colonnes numériques')\n",
    "plt.xlabel('Valeurs')\n",
    "plt.ylabel('Colonnes')\n",
    "\n",
    "# Afficher le plot\n",
    "plt.show()\n",
    "df_archive = df"
   ]
  },
  {
   "cell_type": "code",
   "execution_count": null,
   "id": "3419d35d-f28d-472a-9be1-86c9769c0e67",
   "metadata": {},
   "outputs": [],
   "source": [
    "max_fat_row = df.loc[df['salt_100g'].idxmax()]\n",
    "\n",
    "# Afficher la ligne avec la valeur maximale de 'fat_100g'\n",
    "print(max_fat_row)"
   ]
  },
  {
   "cell_type": "markdown",
   "id": "4bc321ed-8b33-47d3-8763-421a466746ad",
   "metadata": {},
   "source": [
    "Boxplot de vérification"
   ]
  },
  {
   "cell_type": "code",
   "execution_count": null,
   "id": "bdc0813d-c51b-4c03-95e2-bb008aa5a1f4",
   "metadata": {},
   "outputs": [],
   "source": [
    "\n",
    "# Convertir 'product_name' et 'brands' en minuscules pour ignorer la casse\n",
    "df['product_name_lower'] = df['product_name'].str.lower()\n",
    "df['brands_lower'] = df['brands'].str.lower()\n",
    "\n",
    "# Supprimer les doublons en utilisant les colonnes en minuscules\n",
    "df_cleaned = df.drop_duplicates(subset=['product_name_lower', 'brands_lower'], keep='first')\n",
    "\n",
    "# Supprimer les colonnes temporaires en minuscules\n",
    "df_cleaned = df_cleaned.drop(columns=['product_name_lower', 'brands_lower'])\n",
    "\n",
    "print(df_cleaned.head())"
   ]
  },
  {
   "cell_type": "markdown",
   "id": "75e26ad9-4d1f-4b39-9011-023846d3b9e9",
   "metadata": {},
   "source": [
    "On enlève les doublons par marque"
   ]
  },
  {
   "cell_type": "code",
   "execution_count": null,
   "id": "f8357bb8-aabf-45b6-b06e-42c2116010db",
   "metadata": {},
   "outputs": [],
   "source": [
    "# Vérifier le résultat\n",
    "# Créer un boxplot pour toutes les colonnes numériques\n",
    "plt.figure(figsize=(12, 8))\n",
    "sns.boxplot(data=df_cleaned[numerical_cols], orient='h')  # Orientation horizontale pour plus de lisibilité\n",
    "\n",
    "# Ajouter des labels et un titre\n",
    "plt.title('Boxplot des colonnes numériques')\n",
    "plt.xlabel('Valeurs')\n",
    "plt.ylabel('Colonnes')\n",
    "\n",
    "# Afficher le plot\n",
    "plt.show()"
   ]
  },
  {
   "cell_type": "markdown",
   "id": "5b527c27-3e15-4257-a200-24ecd730c0d8",
   "metadata": {},
   "source": [
    "Enregistrement du CSV"
   ]
  },
  {
   "cell_type": "code",
   "execution_count": null,
   "id": "6bcc4c3a-e29c-4701-9533-99c10af959ac",
   "metadata": {},
   "outputs": [],
   "source": [
    "df.to_csv(\"cleaned_data.csv\", index=False)"
   ]
  },
  {
   "cell_type": "markdown",
   "id": "e79fb905-cee5-4306-b0e3-3052c6a1bc4a",
   "metadata": {},
   "source": [
    "## Dernière vérification par boxplot "
   ]
  },
  {
   "cell_type": "code",
   "execution_count": null,
   "id": "2b9ae1ce-6e5f-44a3-b261-8f774a682702",
   "metadata": {},
   "outputs": [],
   "source": [
    "# Identifier les colonnes numériques\n",
    "numerical_cols = [\n",
    "    'quantity', 'nutriscore_score',\n",
    "    'fat_100g', 'saturated-fat_100g', 'sugars_100g', 'fiber_100g',\n",
    "    'proteins_100g', 'salt_100g', 'fruits-vegetables-nuts-estimate-from-ingredients_100g',\n",
    "    'nutrition-score-fr_100g'\n",
    "]"
   ]
  },
  {
   "cell_type": "code",
   "execution_count": null,
   "id": "f742d221-6b75-4b35-9880-0346e014f189",
   "metadata": {},
   "outputs": [],
   "source": [
    "# Créer un boxplot pour toutes les colonnes numériques\n",
    "plt.figure(figsize=(12, 8))\n",
    "sns.boxplot(data=df[numerical_cols], orient='h')  # Orientation horizontale pour plus de lisibilité\n",
    "\n",
    "# Ajouter des labels et un titre\n",
    "plt.title('Boxplot des colonnes numériques')\n",
    "plt.xlabel('Valeurs')\n",
    "plt.ylabel('Colonnes')\n",
    "\n",
    "# Afficher le plot\n",
    "plt.show()"
   ]
  },
  {
   "cell_type": "code",
   "execution_count": null,
   "id": "62f3257d-c311-4476-a21a-94df94b8270e",
   "metadata": {},
   "outputs": [],
   "source": []
  }
 ],
 "metadata": {
  "kernelspec": {
   "display_name": "Python 3 (ipykernel)",
   "language": "python",
   "name": "python3"
  },
  "language_info": {
   "codemirror_mode": {
    "name": "ipython",
    "version": 3
   },
   "file_extension": ".py",
   "mimetype": "text/x-python",
   "name": "python",
   "nbconvert_exporter": "python",
   "pygments_lexer": "ipython3",
   "version": "3.12.6"
  }
 },
 "nbformat": 4,
 "nbformat_minor": 5
}

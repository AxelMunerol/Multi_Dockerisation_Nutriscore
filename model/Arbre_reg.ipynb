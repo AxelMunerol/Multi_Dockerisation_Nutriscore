{
 "cells": [
  {
   "cell_type": "markdown",
   "metadata": {
    "id": "1m4tDFrDm_LV"
   },
   "source": [
    "La **régression** est une technique d'apprentissage supervisé utilisée en statistiques et en apprentissage automatique pour modéliser et analyser les relations entre une variable cible (dépendante) et une ou plusieurs variables indépendantes (ou prédicteurs). L’objectif principal de la régression est de prédire des valeurs continues pour la variable cible en se basant sur les valeurs des variables indépendantes."
   ]
  },
  {
   "cell_type": "markdown",
   "metadata": {
    "id": "tjc0arVpnjqf"
   },
   "source": [
    "**Importer l'ensemble de données**"
   ]
  },
  {
   "cell_type": "code",
   "execution_count": 1,
   "metadata": {
    "colab": {
     "base_uri": "https://localhost:8080/"
    },
    "id": "6xgSJ3eZGann",
    "outputId": "c450e70c-278a-4405-d852-1818c0c6c230"
   },
   "outputs": [],
   "source": [
    "import pandas as pd\n",
    "pd.set_option('display.max_rows', None)\n",
    "\n",
    "pd.set_option('display.max_columns', None)\n",
    "df=pd.read_csv(\"cleaned_data.csv\",sep=',',on_bad_lines='skip', low_memory=False)"
   ]
  },
  {
   "cell_type": "markdown",
   "metadata": {
    "id": "lcg2VnzEnxEA"
   },
   "source": [
    "**Un aperçu des données dans notre DataFrame**"
   ]
  },
  {
   "cell_type": "code",
   "execution_count": 2,
   "metadata": {
    "colab": {
     "base_uri": "https://localhost:8080/"
    },
    "id": "7CecdJ0PLkco",
    "outputId": "3f6ceec1-4ab0-48f8-8f93-a4e449e7d5df"
   },
   "outputs": [
    {
     "name": "stdout",
     "output_type": "stream",
     "text": [
      "<class 'pandas.core.frame.DataFrame'>\n",
      "RangeIndex: 122305 entries, 0 to 122304\n",
      "Data columns (total 26 columns):\n",
      " #   Column                                                 Non-Null Count   Dtype  \n",
      "---  ------                                                 --------------   -----  \n",
      " 0   code                                                   122305 non-null  object \n",
      " 1   product_name                                           119274 non-null  object \n",
      " 2   created_datetime                                       122305 non-null  object \n",
      " 3   quantity                                               109982 non-null  object \n",
      " 4   brands                                                 117822 non-null  object \n",
      " 5   categories                                             122305 non-null  object \n",
      " 6   categories_en                                          122305 non-null  object \n",
      " 7   pnns_groups_1                                          122305 non-null  object \n",
      " 8   pnns_groups_2                                          122305 non-null  object \n",
      " 9   main_category_en                                       122305 non-null  object \n",
      " 10  ingredients_text                                       122300 non-null  object \n",
      " 11  nutriscore_score                                       122305 non-null  float64\n",
      " 12  nutriscore_grade                                       122305 non-null  object \n",
      " 13  countries_en                                           122305 non-null  object \n",
      " 14  energy-kj_100g                                         122305 non-null  float64\n",
      " 15  energy-kcal_100g                                       122305 non-null  float64\n",
      " 16  fat_100g                                               122305 non-null  float64\n",
      " 17  saturated-fat_100g                                     122305 non-null  float64\n",
      " 18  sugars_100g                                            122305 non-null  float64\n",
      " 19  fiber_100g                                             122305 non-null  float64\n",
      " 20  proteins_100g                                          122305 non-null  float64\n",
      " 21  salt_100g                                              122305 non-null  float64\n",
      " 22  fruits-vegetables-nuts-estimate-from-ingredients_100g  122305 non-null  float64\n",
      " 23  nutrition-score-fr_100g                                122305 non-null  float64\n",
      " 24  product_name_lower                                     119274 non-null  object \n",
      " 25  brands_lower                                           117822 non-null  object \n",
      "dtypes: float64(11), object(15)\n",
      "memory usage: 24.3+ MB\n"
     ]
    }
   ],
   "source": [
    "df.info()"
   ]
  },
  {
   "cell_type": "markdown",
   "metadata": {
    "id": "U_98_HVTotiH"
   },
   "source": [
    "**Suppresssion des variables de type objet**"
   ]
  },
  {
   "cell_type": "code",
   "execution_count": 3,
   "metadata": {
    "id": "e2rbo3gA_Y8U"
   },
   "outputs": [],
   "source": [
    "df=df.drop(['energy-kj_100g','code','nutrition-score-fr_100g','product_name','created_datetime','quantity','brands','categories','categories_en','pnns_groups_1','main_category_en','ingredients_text','countries_en','nutriscore_grade','product_name_lower','brands_lower'], axis = 1)"
   ]
  },
  {
   "cell_type": "markdown",
   "metadata": {
    "id": "HEdaEwmkpgFM"
   },
   "source": [
    "**Encodage de la variable nutriscore_grade**"
   ]
  },
  {
   "cell_type": "code",
   "execution_count": 4,
   "metadata": {
    "id": "oG4ihpYYLpCH"
   },
   "outputs": [],
   "source": [
    "# Assure-toi d'utiliser le bon nom de colonne\n",
    "\n",
    "try:\n",
    "    df = pd.get_dummies(df, columns=['pnns_groups_2'], drop_first=True)\n",
    "except:\n",
    "    print(df.columns)"
   ]
  },
  {
   "cell_type": "markdown",
   "metadata": {
    "id": "P2RyNQoPptsC"
   },
   "source": [
    "**Affichage des premières lignes**"
   ]
  },
  {
   "cell_type": "code",
   "execution_count": 5,
   "metadata": {
    "colab": {
     "base_uri": "https://localhost:8080/",
     "height": 278
    },
    "id": "UhcXAIrzLpYk",
    "outputId": "b73680ae-fb04-44a2-f154-ba756bdf83bf"
   },
   "outputs": [
    {
     "name": "stdout",
     "output_type": "stream",
     "text": [
      "Index(['nutriscore_score', 'energy-kcal_100g', 'fat_100g',\n",
      "       'saturated-fat_100g', 'sugars_100g', 'fiber_100g', 'proteins_100g',\n",
      "       'salt_100g', 'fruits-vegetables-nuts-estimate-from-ingredients_100g',\n",
      "       'pnns_groups_2_Appetizers',\n",
      "       'pnns_groups_2_Artificially sweetened beverages',\n",
      "       'pnns_groups_2_Biscuits and cakes', 'pnns_groups_2_Bread',\n",
      "       'pnns_groups_2_Breakfast cereals', 'pnns_groups_2_Cereals',\n",
      "       'pnns_groups_2_Cheese', 'pnns_groups_2_Chocolate products',\n",
      "       'pnns_groups_2_Dairy desserts', 'pnns_groups_2_Dressings and sauces',\n",
      "       'pnns_groups_2_Dried fruits', 'pnns_groups_2_Eggs',\n",
      "       'pnns_groups_2_Fats', 'pnns_groups_2_Fish and seafood',\n",
      "       'pnns_groups_2_Fruit juices', 'pnns_groups_2_Fruit nectars',\n",
      "       'pnns_groups_2_Fruits', 'pnns_groups_2_Ice cream',\n",
      "       'pnns_groups_2_Legumes', 'pnns_groups_2_Meat',\n",
      "       'pnns_groups_2_Milk and yogurt', 'pnns_groups_2_Nuts',\n",
      "       'pnns_groups_2_Offals', 'pnns_groups_2_One-dish meals',\n",
      "       'pnns_groups_2_Pastries', 'pnns_groups_2_Pizza pies and quiches',\n",
      "       'pnns_groups_2_Plant-based milk substitutes', 'pnns_groups_2_Potatoes',\n",
      "       'pnns_groups_2_Processed meat',\n",
      "       'pnns_groups_2_Salty and fatty products', 'pnns_groups_2_Sandwiches',\n",
      "       'pnns_groups_2_Soups', 'pnns_groups_2_Sweetened beverages',\n",
      "       'pnns_groups_2_Sweets',\n",
      "       'pnns_groups_2_Teas and herbal teas and coffees',\n",
      "       'pnns_groups_2_Unsweetened beverages', 'pnns_groups_2_Vegetables',\n",
      "       'pnns_groups_2_Waters and flavored waters', 'pnns_groups_2_unknown'],\n",
      "      dtype='object')\n"
     ]
    }
   ],
   "source": [
    "df.head()\n",
    "print(df.columns)"
   ]
  },
  {
   "cell_type": "markdown",
   "metadata": {
    "id": "lnV3hX-wp8bu"
   },
   "source": [
    "**Préparer les données pour prédire la variable nutriscore**"
   ]
  },
  {
   "cell_type": "code",
   "execution_count": 6,
   "metadata": {
    "id": "36To1bzjNF1m"
   },
   "outputs": [],
   "source": [
    "X = df.drop(\"nutriscore_score\", axis = 1)\n",
    "y = df[\"nutriscore_score\"]"
   ]
  },
  {
   "cell_type": "markdown",
   "metadata": {
    "id": "r0NCr0rrqL8Z"
   },
   "source": [
    "**Sépartion des données d'entrainnement et les données de test**"
   ]
  },
  {
   "cell_type": "code",
   "execution_count": 7,
   "metadata": {
    "id": "uX_SKXy3NF4O"
   },
   "outputs": [],
   "source": [
    "from sklearn.model_selection import train_test_split\n",
    "import random\n",
    "X_train, X_test, y_train, y_test = train_test_split(X, y, test_size = 0.2,random_state=12)"
   ]
  },
  {
   "cell_type": "markdown",
   "metadata": {
    "id": "lkNfwRnzqahv"
   },
   "source": [
    "**Normalisation des données**"
   ]
  },
  {
   "cell_type": "code",
   "execution_count": 8,
   "metadata": {
    "id": "M9AKQwk_NF7v"
   },
   "outputs": [],
   "source": [
    "from sklearn.preprocessing import MinMaxScaler\n",
    "scaler = MinMaxScaler()\n",
    "scaler = scaler.fit(X_train)\n",
    "X_train_scaled = scaler.fit_transform(X_train)\n",
    "\n",
    "X_test_scaled = scaler.transform(X_test)"
   ]
  },
  {
   "cell_type": "markdown",
   "metadata": {
    "id": "f8vFghQFqk9X"
   },
   "source": [
    "**Un arbre de régression de type CART**"
   ]
  },
  {
   "cell_type": "code",
   "execution_count": 9,
   "metadata": {
    "id": "AAb3SC0cNXQi"
   },
   "outputs": [],
   "source": [
    "from sklearn.ensemble import GradientBoostingRegressor\n",
    "model = GradientBoostingRegressor(\n",
    "    learning_rate=0.1,  # Réduit le pas d'apprentissage\n",
    "    n_estimators=150,    # Réduit le nombre d'estimateurs\n",
    "    max_depth=3,         # Limite la profondeur des arbres\n",
    "    random_state=14,\n",
    "    max_features=\"sqrt\",\n",
    "    min_samples_leaf=5,\n",
    "    min_samples_split=20,\n",
    "    subsample=0.7\n",
    ")\n",
    "model.fit(X_train_scaled,y_train)\n",
    "y_pred = model.predict(X_test_scaled)\n",
    "y_train_pred = model.predict(X_train_scaled)"
   ]
  },
  {
   "cell_type": "markdown",
   "metadata": {
    "id": "yV048dAZqt1W"
   },
   "source": [
    "**Evaluation du modèle**"
   ]
  },
  {
   "cell_type": "code",
   "execution_count": 10,
   "metadata": {
    "colab": {
     "base_uri": "https://localhost:8080/"
    },
    "id": "Ribml0UULpb7",
    "outputId": "bf456e6a-0add-4394-fad7-1f13c94f1f94",
    "scrolled": true
   },
   "outputs": [
    {
     "name": "stdout",
     "output_type": "stream",
     "text": [
      "MAE: 1.2946700207353308\n",
      "MSE: 3.6608604181604045\n",
      "R²: 0.9529497789014976\n",
      "MAE: 1.2742414282586765\n",
      "MSE: 3.4533628636746028\n",
      "R²: 0.9551103635274941\n"
     ]
    }
   ],
   "source": [
    "from sklearn.metrics import mean_absolute_error, mean_squared_error, r2_score\n",
    "\n",
    "\n",
    "print(\"MAE:\", mean_absolute_error(y_test, y_pred))\n",
    "print(\"MSE:\", mean_squared_error(y_test, y_pred))\n",
    "print(\"R²:\", r2_score(y_test, y_pred))\n",
    "\n",
    "\n",
    "print(\"MAE:\", mean_absolute_error(y_train, y_train_pred))\n",
    "print(\"MSE:\", mean_squared_error(y_train, y_train_pred))\n",
    "print(\"R²:\", r2_score(y_train, y_train_pred))"
   ]
  },
  {
   "cell_type": "markdown",
   "metadata": {},
   "source": [
    "**Enregistrement du modèle**"
   ]
  },
  {
   "cell_type": "code",
   "execution_count": 11,
   "metadata": {},
   "outputs": [],
   "source": [
    "import pickle\n",
    "\n",
    "# Ouvrir un fichier en mode écriture binaire pour enregistrer le modèle\n",
    "with open('model.pkl', 'wb') as file:\n",
    "    pickle.dump(model, file)\n",
    "\n",
    "with open('scaler.pkl', 'wb') as file:\n",
    "    pickle.dump(scaler, file)\n"
   ]
  },
  {
   "cell_type": "code",
   "execution_count": null,
   "metadata": {},
   "outputs": [],
   "source": []
  },
  {
   "cell_type": "code",
   "execution_count": null,
   "metadata": {},
   "outputs": [],
   "source": []
  }
 ],
 "metadata": {
  "colab": {
   "provenance": []
  },
  "kernelspec": {
   "display_name": "Python 3 (ipykernel)",
   "language": "python",
   "name": "python3"
  },
  "language_info": {
   "codemirror_mode": {
    "name": "ipython",
    "version": 3
   },
   "file_extension": ".py",
   "mimetype": "text/x-python",
   "name": "python",
   "nbconvert_exporter": "python",
   "pygments_lexer": "ipython3",
   "version": "3.12.6"
  }
 },
 "nbformat": 4,
 "nbformat_minor": 4
}
